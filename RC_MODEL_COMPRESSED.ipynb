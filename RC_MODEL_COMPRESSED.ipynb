{
 "cells": [
  {
   "cell_type": "code",
   "execution_count": 55,
   "metadata": {},
   "outputs": [],
   "source": [
    "# Eliminando avisos do algoritmo:\n",
    "def warn(*args, **kwargs):\n",
    "    pass\n",
    "import warnings\n",
    "warnings.warn = warn\n",
    "\n",
    "from sklearn.linear_model    import LinearRegression\n",
    "from sklearn.model_selection import train_test_split\n",
    "from sklearn.metrics         import r2_score, mean_squared_error\n",
    "import pandas                as pd\n",
    "import numpy                 as np\n",
    "import seaborn               as sns\n",
    "import matplotlib.pyplot     as plt"
   ]
  },
  {
   "cell_type": "code",
   "execution_count": 56,
   "metadata": {},
   "outputs": [],
   "source": [
    "df = pd.read_csv('Concrete_Data.csv')\n",
    "df.rename(columns={\"Cement (component 1)(kg in a m^3 mixture)\":\"Cimento(kg/m3)\",\n",
    "                   \"Blast Furnace Slag (component 2)(kg in a m^3 mixture)\":\"Brita(kg/m3)\",\n",
    "                   \"Fly Ash (component 3)(kg in a m^3 mixture)\":\"Cinzas Volante(kg/m3)\",\n",
    "                   \"Water  (component 4)(kg in a m^3 mixture)\":\"Agua(kg/m3)\",\n",
    "                   \"Superplasticizer (component 5)(kg in a m^3 mixture)\":\"Superplastificante(kg/m3)\",\n",
    "                   \"Coarse Aggregate  (component 6)(kg in a m^3 mixture)\":\"Agregado Grosso(kg/m3)\",\n",
    "                   \"Fine Aggregate (component 7)(kg in a m^3 mixture)\":\"Agregado Fino(kg/m3)\",\n",
    "                   \"Age (day)\":\"Idade(dias)\",\n",
    "                   \"Concrete compressive strength(MPa, megapascals) \":\"Resistencia a Compressao do Concreto(MPa)\"},\n",
    "         inplace=True)\n",
    "\n",
    "new_df = df.loc[df[\"Idade(dias)\"] <= 29]\n",
    "df1 = new_df\n",
    "\n",
    "# Dividindo as variáveis em treino e variavel target:\n",
    "y = df1['Resistencia a Compressao do Concreto(MPa)']\n",
    "x = df1.drop('Resistencia a Compressao do Concreto(MPa)', axis=1)"
   ]
  },
  {
   "cell_type": "code",
   "execution_count": 57,
   "metadata": {},
   "outputs": [
    {
     "name": "stdout",
     "output_type": "stream",
     "text": [
      "Coef R2 (Linear): 0.7515904931090076\n",
      "RMSE (linear): 7.507468329139214\n"
     ]
    }
   ],
   "source": [
    "x_treino, x_teste, y_treino, y_teste = train_test_split(x, y, test_size=0.30)\n",
    "\n",
    "modelo = LinearRegression()\n",
    "modelo.fit(x_treino, y_treino)\n",
    "\n",
    "# Instanciando valores de predições realizadas nos dados de teste:\n",
    "#y_train_pred = modelo.predict(x_treino) \n",
    "\n",
    "y_test_pred = modelo.predict(x_teste) \n",
    "\n",
    "r2_linear = r2_score(y_teste, y_test_pred)\n",
    "rmse_linear = np.sqrt(mean_squared_error(y_teste, y_test_pred))\n",
    "\n",
    "print(f'Coef R2 (Linear): {r2_linear}')\n",
    "print(f'RMSE (linear): {rmse_linear}')"
   ]
  },
  {
   "cell_type": "code",
   "execution_count": 58,
   "metadata": {},
   "outputs": [],
   "source": [
    "# Removendo valores de superplastificante e de Cinzas Volantes:\n",
    "indexValues = df1[df1[\"Superplastificante(kg/m3)\"] > 0].index\n",
    "df1.drop(indexValues, inplace=True)"
   ]
  },
  {
   "cell_type": "code",
   "execution_count": 59,
   "metadata": {},
   "outputs": [],
   "source": [
    "indexValues2 = df1[df1[\"Cinzas Volante(kg/m3)\"] > 0].index\n",
    "df1.drop(indexValues2, inplace=True)"
   ]
  },
  {
   "cell_type": "code",
   "execution_count": 60,
   "metadata": {},
   "outputs": [],
   "source": [
    "# Dividindo as variáveis em treino e variavel target:\n",
    "y = df1['Resistencia a Compressao do Concreto(MPa)']\n",
    "x = df1.drop('Resistencia a Compressao do Concreto(MPa)', axis=1)"
   ]
  },
  {
   "cell_type": "code",
   "execution_count": 67,
   "metadata": {},
   "outputs": [
    {
     "name": "stdout",
     "output_type": "stream",
     "text": [
      "Coef R2 (Linear): 0.8316703769445812\n",
      "RMSE (linear): 5.6593894615626\n"
     ]
    }
   ],
   "source": [
    "x_treino, x_teste, y_treino, y_teste = train_test_split(x, y, test_size=0.30)\n",
    "\n",
    "modelo = LinearRegression()\n",
    "modelo.fit(x_treino, y_treino)\n",
    "\n",
    "# Instanciando valores de predições realizadas nos dados de teste:\n",
    "#y_train_pred = modelo.predict(x_treino) \n",
    "\n",
    "y_test_pred = modelo.predict(x_teste) \n",
    "\n",
    "r2_linear = r2_score(y_teste, y_test_pred)\n",
    "rmse_linear = np.sqrt(mean_squared_error(y_teste, y_test_pred))\n",
    "\n",
    "print(f'Coef R2 (Linear): {r2_linear}')\n",
    "print(f'RMSE (linear): {rmse_linear}')"
   ]
  },
  {
   "cell_type": "code",
   "execution_count": 68,
   "metadata": {},
   "outputs": [
    {
     "name": "stdout",
     "output_type": "stream",
     "text": [
      "[38.94314787  6.08445889  9.53070927 31.69761634 31.04967184  1.13559253\n",
      " 16.66025336 26.47152293 20.05415543 13.28078376 44.69742283 22.30326727\n",
      " 14.19210199 13.43724157 18.86072843 27.31605007 34.90118151 49.2459234\n",
      "  6.31886185 40.25790077 11.37526661 13.01507431 27.21307321  3.78936194\n",
      " 49.54609373 28.83064148 33.81015199 23.95811926 28.70785374 45.08077846\n",
      " 42.76293092 45.32300233  3.43068947 25.87661709  6.22950706 23.53047081\n",
      " 26.58037723 11.8151909  35.44678729 22.68317577 32.2474121  48.55793273\n",
      "  5.71720841 11.12649585  3.4249413  26.27348233  6.29156163  6.67778299\n",
      " 17.53162109 40.355768   39.06641622 14.61131788 39.79226458 17.35723074\n",
      " 27.36953101 24.13303989 23.59943257 31.46391053 11.94432765 29.85255533\n",
      "  6.95499295 21.51449785 17.72165139 30.32428306 14.87785167 32.88762553\n",
      " 31.39071289 32.96003487 28.73694347 19.82474375 25.74748034 12.98472386\n",
      " 15.38530987 23.20620572 31.85595556 17.1173824  15.11155748]\n",
      "77\n"
     ]
    }
   ],
   "source": [
    "print(y_test_pred)\n",
    "print(len(y_test_pred))"
   ]
  },
  {
   "cell_type": "code",
   "execution_count": 69,
   "metadata": {},
   "outputs": [
    {
     "name": "stdout",
     "output_type": "stream",
     "text": [
      "[33.04 10.35 11.48 32.88 33.61  4.57 13.22 32.82 14.54 14.2  59.76 18.42\n",
      " 18.91  9.62  9.56 49.25 34.57 71.99 10.09 48.4  14.64 12.84 21.65  7.68\n",
      " 55.94 24.44 34.29 27.04 25.75 39.29 38.7  44.09  3.32 24.5   8.37 24.\n",
      " 25.73 11.96 41.68 25.62 24.4  43.89  6.47 10.22  7.72 22.44  6.94 11.17\n",
      " 18.13 43.38 36.94 15.58 31.35 20.59 21.07 30.28 22.53 32.72 14.2  25.18\n",
      "  4.83 19.54 17.28 31.74 14.99 27.34 33.21 33.8  26.06 11.47 22.63 15.03\n",
      " 16.28 14.7  31.45  9.01 13.57]\n"
     ]
    }
   ],
   "source": [
    "print(y_teste.to_numpy())"
   ]
  },
  {
   "cell_type": "code",
   "execution_count": 70,
   "metadata": {},
   "outputs": [
    {
     "name": "stdout",
     "output_type": "stream",
     "text": [
      "38.94 | 33.04\n",
      "6.08 | 10.35\n",
      "9.53 | 11.48\n",
      "31.70 | 32.88\n",
      "31.05 | 33.61\n",
      "1.14 | 4.57\n",
      "16.66 | 13.22\n",
      "26.47 | 32.82\n",
      "20.05 | 14.54\n",
      "13.28 | 14.2\n",
      "44.70 | 59.76\n",
      "22.30 | 18.42\n",
      "14.19 | 18.91\n",
      "13.44 | 9.62\n",
      "18.86 | 9.56\n",
      "27.32 | 49.25\n",
      "34.90 | 34.57\n",
      "49.25 | 71.99\n",
      "6.32 | 10.09\n",
      "40.26 | 48.4\n",
      "11.38 | 14.64\n",
      "13.02 | 12.84\n",
      "27.21 | 21.65\n",
      "3.79 | 7.68\n",
      "49.55 | 55.94\n",
      "28.83 | 24.44\n",
      "33.81 | 34.29\n",
      "23.96 | 27.04\n",
      "28.71 | 25.75\n",
      "45.08 | 39.29\n",
      "42.76 | 38.7\n",
      "45.32 | 44.09\n",
      "3.43 | 3.32\n",
      "25.88 | 24.5\n",
      "6.23 | 8.37\n",
      "23.53 | 24.0\n",
      "26.58 | 25.73\n",
      "11.82 | 11.96\n",
      "35.45 | 41.68\n",
      "22.68 | 25.62\n",
      "32.25 | 24.4\n",
      "48.56 | 43.89\n",
      "5.72 | 6.47\n",
      "11.13 | 10.22\n",
      "3.42 | 7.72\n",
      "26.27 | 22.44\n",
      "6.29 | 6.94\n",
      "6.68 | 11.17\n",
      "17.53 | 18.13\n",
      "40.36 | 43.38\n",
      "39.07 | 36.94\n",
      "14.61 | 15.58\n",
      "39.79 | 31.35\n",
      "17.36 | 20.59\n",
      "27.37 | 21.07\n",
      "24.13 | 30.28\n",
      "23.60 | 22.53\n",
      "31.46 | 32.72\n",
      "11.94 | 14.2\n",
      "29.85 | 25.18\n",
      "6.95 | 4.83\n",
      "21.51 | 19.54\n",
      "17.72 | 17.28\n",
      "30.32 | 31.74\n",
      "14.88 | 14.99\n",
      "32.89 | 27.34\n",
      "31.39 | 33.21\n",
      "32.96 | 33.8\n",
      "28.74 | 26.06\n",
      "19.82 | 11.47\n",
      "25.75 | 22.63\n",
      "12.98 | 15.03\n",
      "15.39 | 16.28\n",
      "23.21 | 14.7\n",
      "31.86 | 31.45\n",
      "17.12 | 9.01\n",
      "15.11 | 13.57\n"
     ]
    }
   ],
   "source": [
    "y_test = y_teste.to_numpy()\n",
    "print\n",
    "for values in range(0, 77):\n",
    "    print(f'{y_test_pred[values]:.2f} | {y_test[values]}')"
   ]
  },
  {
   "cell_type": "code",
   "execution_count": null,
   "metadata": {},
   "outputs": [],
   "source": []
  }
 ],
 "metadata": {
  "kernelspec": {
   "display_name": "Python 3",
   "language": "python",
   "name": "python3"
  },
  "language_info": {
   "codemirror_mode": {
    "name": "ipython",
    "version": 3
   },
   "file_extension": ".py",
   "mimetype": "text/x-python",
   "name": "python",
   "nbconvert_exporter": "python",
   "pygments_lexer": "ipython3",
   "version": "3.8.5"
  }
 },
 "nbformat": 4,
 "nbformat_minor": 4
}
